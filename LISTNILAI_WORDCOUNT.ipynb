{
 "cells": [
  {
   "cell_type": "markdown",
   "metadata": {},
   "source": [
    "# TUGAS 2 - LIST NILAI"
   ]
  },
  {
   "cell_type": "code",
   "execution_count": 4,
   "metadata": {},
   "outputs": [
    {
     "name": "stdout",
     "output_type": "stream",
     "text": [
      "[99, 97, 66, 86, 16, 2, 81, 35, 76, 75, 23, 27, 45, 80, 73, 99, 93, 45, 6, 65, 49, 41, 25, 77, 69, 52, 59, 73, 68, 33, 14, 41, 52, 47, 51, 43, 38, 55, 81, 17, 48, 64, 95, 48, 28, 27, 51, 59, 26, 1, 31, 25, 42, 65, 74, 36, 4, 87, 65, 46, 67, 93, 4, 51, 3, 19, 26, 71, 9, 47, 6, 13, 95, 26, 64, 70, 59, 82, 18, 56, 29, 42, 77, 56, 1, 84, 60, 76, 9, 58, 41, 33, 18, 47, 71, 40, 4, 4, 11, 38, 18, 84, 51, 85, 58, 17, 87, 96, 74, 39, 77, 70, 73, 12, 28, 26, 57, 60, 24, 37, 97, 48, 22, 6, 7, 87, 91, 7, 59, 7, 27, 89, 53, 83, 50, 66, 7, 89, 73, 17, 78, 10, 63, 40, 58, 66, 80, 81, 98, 20, 79, 62, 72, 40, 63, 17, 43, 9, 43, 40, 49, 57, 63, 54, 16, 94, 23, 56, 96, 55, 56, 64, 98, 83, 86, 79, 9, 93, 84, 94, 43, 80, 88, 75, 29, 24, 71, 63, 11, 67, 24, 90, 87, 28, 32, 73, 47, 61, 42, 1, 28, 71, 92, 47, 61, 62, 1, 77, 49, 77, 62, 1, 78, 51, 41, 18, 85, 21, 77, 10, 4, 51, 79, 62, 75, 53, 79, 11, 57, 19, 69, 23, 90, 75, 36, 40, 41, 28, 3, 5, 19, 73, 78, 43, 17, 43, 74, 62, 36, 15]\n"
     ]
    }
   ],
   "source": [
    "import random\n",
    "\n",
    "# GENERATE RANDOM\n",
    "nilaiTugas = []\n",
    "for i in range(250):\n",
    "    nilaiTugas.append(random.randrange(1,100,1))\n",
    "\n",
    "print(nilaiTugas)\n",
    "\n",
    "# TAMPILKAN:\n",
    "# ganjil\n",
    "# nilai > 70\n",
    "# standar deviasi\n",
    "# maksimum\n",
    "# minimum\n",
    "# modus"
   ]
  },
  {
   "cell_type": "markdown",
   "metadata": {},
   "source": [
    "# NILAI GANJIL"
   ]
  },
  {
   "cell_type": "code",
   "execution_count": 5,
   "metadata": {},
   "outputs": [
    {
     "name": "stdout",
     "output_type": "stream",
     "text": [
      "[99, 97, 81, 35, 75, 23, 27, 45, 73, 99, 93, 45, 65, 49, 41, 25, 77, 69, 59, 73, 33, 41, 47, 51, 43, 55, 81, 17, 95, 27, 51, 59, 1, 31, 25, 65, 87, 65, 67, 93, 51, 3, 19, 71, 9, 47, 13, 95, 59, 29, 77, 1, 9, 41, 33, 47, 71, 11, 51, 85, 17, 87, 39, 77, 73, 57, 37, 97, 7, 87, 91, 7, 59, 7, 27, 89, 53, 83, 7, 89, 73, 17, 63, 81, 79, 63, 17, 43, 9, 43, 49, 57, 63, 23, 55, 83, 79, 9, 93, 43, 75, 29, 71, 63, 11, 67, 87, 73, 47, 61, 1, 71, 47, 61, 1, 77, 49, 77, 1, 51, 41, 85, 21, 77, 51, 79, 75, 53, 79, 11, 57, 19, 69, 23, 75, 41, 3, 5, 19, 73, 43, 17, 43, 15]\n"
     ]
    }
   ],
   "source": [
    "nilaiGanjil = []\n",
    "for nilai in nilaiTugas:\n",
    "    if nilai%2 != 0:\n",
    "        nilaiGanjil.append(nilai)\n",
    "print(nilaiGanjil)"
   ]
  },
  {
   "cell_type": "markdown",
   "metadata": {},
   "source": [
    "# NILAI > 70"
   ]
  },
  {
   "cell_type": "code",
   "execution_count": 6,
   "metadata": {},
   "outputs": [
    {
     "name": "stdout",
     "output_type": "stream",
     "text": [
      "[99, 97, 86, 81, 76, 75, 80, 73, 99, 93, 77, 73, 81, 95, 74, 87, 93, 71, 95, 82, 77, 84, 76, 71, 84, 85, 87, 96, 74, 77, 73, 97, 87, 91, 89, 83, 89, 73, 78, 80, 81, 98, 79, 72, 94, 96, 98, 83, 86, 79, 93, 84, 94, 80, 88, 75, 71, 90, 87, 73, 71, 92, 77, 77, 78, 85, 77, 79, 75, 79, 90, 75, 73, 78, 74]\n"
     ]
    }
   ],
   "source": [
    "nilaiMin71 = []\n",
    "for cekNilai in nilaiTugas:\n",
    "    if (cekNilai>70):\n",
    "        nilaiMin71.append(cekNilai)\n",
    "print(nilaiMin71)"
   ]
  },
  {
   "cell_type": "markdown",
   "metadata": {},
   "source": [
    "# NILAI MAX DAN MIN"
   ]
  },
  {
   "cell_type": "code",
   "execution_count": 7,
   "metadata": {},
   "outputs": [
    {
     "name": "stdout",
     "output_type": "stream",
     "text": [
      "nilai Tertinggi: 99\n",
      "nilai Terendah: 1\n"
     ]
    }
   ],
   "source": [
    "nilaiMaximum = nilaiTugas[0]\n",
    "nilaiMinimum = nilaiTugas[0]\n",
    "for i in nilaiTugas:\n",
    "    if(i>nilaiMaximum):\n",
    "        nilaiMaximum = i\n",
    "    if(i<nilaiMinimum):\n",
    "        nilaiMinimum = i    \n",
    "print('nilai Tertinggi:', nilaiMaximum)\n",
    "print('nilai Terendah:', nilaiMinimum)"
   ]
  },
  {
   "cell_type": "markdown",
   "metadata": {},
   "source": [
    "# STANDAR DEVIASI"
   ]
  },
  {
   "cell_type": "code",
   "execution_count": 8,
   "metadata": {},
   "outputs": [
    {
     "data": {
      "text/plain": [
       "27.72"
      ]
     },
     "execution_count": 8,
     "metadata": {},
     "output_type": "execute_result"
    }
   ],
   "source": [
    "#with lib\n",
    "import statistics\n",
    "from statistics import pstdev\n",
    "round(pstdev(nilaiTugas),2)"
   ]
  },
  {
   "cell_type": "markdown",
   "metadata": {},
   "source": [
    "# MODUS"
   ]
  },
  {
   "cell_type": "code",
   "execution_count": 9,
   "metadata": {},
   "outputs": [
    {
     "name": "stdout",
     "output_type": "stream",
     "text": [
      "terdapat 4 nilai modus pada data, yaitu: [43, 51, 73, 77] \n",
      "dengan jumlah frekuensi sebanyak 6\n"
     ]
    }
   ],
   "source": [
    "nilaiUnique = set(nilaiTugas)\n",
    "nilaiCount = {}\n",
    "\n",
    "for i in nilaiUnique:\n",
    "    nilaiCount[i] = nilaiTugas.count(i)\n",
    "\n",
    "freqMode = 0\n",
    "for k,v in nilaiCount.items():\n",
    "    if v>freqMode:\n",
    "        freqMode = v\n",
    "        nilMode=k\n",
    "\n",
    "NilaiModus = []\n",
    "for k,v in nilaiCount.items():\n",
    "    if v == freqMode:\n",
    "        NilaiModus.append(k)\n",
    "\n",
    "jmlNilai = len(NilaiModus)\n",
    "freqMode = freqMode\n",
    "if(jmlNilai>1):\n",
    "    print('terdapat',jmlNilai,'nilai modus pada data, yaitu:', NilaiModus,'\\ndengan jumlah frekuensi sebanyak', freqMode )\n",
    "else:\n",
    "    print('Nilai modusnya adalah',NilaiModus,'\\ndengan jumlah frekuensi sebanyak', freqMode)"
   ]
  },
  {
   "cell_type": "markdown",
   "metadata": {},
   "source": [
    "# TUGAS 3 - WORD COUNT"
   ]
  },
  {
   "cell_type": "code",
   "execution_count": 10,
   "metadata": {},
   "outputs": [
    {
     "name": "stdout",
     "output_type": "stream",
     "text": [
      "Barcelona berhasil merebut posisi puncak klasemen La Liga Spanyol seusai menang 4-2 atas Sevilla pada pertandingan pekan kesembilan di Stadion Camp Nou, Sabtu (20/10/2018) atau Minggu dini hari WIB. Barcelona membuka keunggulan pada menit ke-2 melalui gol yang dicetak oleh Philippe Coutinho. Lionel Messi menggandakan keunggulan Barcelona, 10 menit berselang.  Namun, nahas bagi Barcelona, karena Messi harus ditarik keluar pada menit ke-26 setelah mengalami cedera. Tanpa Messi, skor 2-0 bertahan hingga babak pertama berakhir.\n"
     ]
    }
   ],
   "source": [
    "paragraf = \"Barcelona berhasil merebut posisi puncak klasemen La Liga Spanyol seusai menang 4-2 atas Sevilla pada pertandingan pekan kesembilan di Stadion Camp Nou, Sabtu (20/10/2018) atau Minggu dini hari WIB. Barcelona membuka keunggulan pada menit ke-2 melalui gol yang dicetak oleh Philippe Coutinho. Lionel Messi menggandakan keunggulan Barcelona, 10 menit berselang.  Namun, nahas bagi Barcelona, karena Messi harus ditarik keluar pada menit ke-26 setelah mengalami cedera. Tanpa Messi, skor 2-0 bertahan hingga babak pertama berakhir.\"\n",
    "print(paragraf)"
   ]
  },
  {
   "cell_type": "code",
   "execution_count": 11,
   "metadata": {},
   "outputs": [
    {
     "name": "stdout",
     "output_type": "stream",
     "text": [
      "Barcelona berhasil merebut posisi puncak klasemen La Liga Spanyol seusai menang  atas Sevilla pada pertandingan pekan kesembilan di Stadion Camp Nou  Sabtu  atau Minggu dini hari WIB  Barcelona membuka keunggulan pada menit ke melalui gol yang dicetak oleh Philippe Coutinho  Lionel Messi menggandakan keunggulan Barcelona   menit berselang   Namun  nahas bagi Barcelona  karena Messi harus ditarik keluar pada menit ke setelah mengalami cedera  Tanpa Messi  skor  bertahan hingga babak pertama berakhir \n"
     ]
    }
   ],
   "source": [
    "paragraf = paragraf.replace('.', ' ')\n",
    "paragraf = paragraf.replace(',', ' ')\n",
    "paragraf = paragraf.replace('/', '')\n",
    "paragraf = paragraf.replace('(', '')\n",
    "paragraf = paragraf.replace(')', '')\n",
    "paragraf = paragraf.replace('-', '')\n",
    "paragraf = paragraf.replace('1', '')\n",
    "paragraf = paragraf.replace('2', '')\n",
    "paragraf = paragraf.replace('4', '')\n",
    "paragraf = paragraf.replace('6', '')\n",
    "paragraf = paragraf.replace('8', '')\n",
    "paragraf = paragraf.replace('0', '')\n",
    "print(paragraf)"
   ]
  },
  {
   "cell_type": "code",
   "execution_count": 12,
   "metadata": {},
   "outputs": [
    {
     "name": "stdout",
     "output_type": "stream",
     "text": [
      "['Barcelona', 'berhasil', 'merebut', 'posisi', 'puncak', 'klasemen', 'La', 'Liga', 'Spanyol', 'seusai', 'menang', 'atas', 'Sevilla', 'pada', 'pertandingan', 'pekan', 'kesembilan', 'di', 'Stadion', 'Camp', 'Nou', 'Sabtu', 'atau', 'Minggu', 'dini', 'hari', 'WIB', 'Barcelona', 'membuka', 'keunggulan', 'pada', 'menit', 'ke', 'melalui', 'gol', 'yang', 'dicetak', 'oleh', 'Philippe', 'Coutinho', 'Lionel', 'Messi', 'menggandakan', 'keunggulan', 'Barcelona', 'menit', 'berselang', 'Namun', 'nahas', 'bagi', 'Barcelona', 'karena', 'Messi', 'harus', 'ditarik', 'keluar', 'pada', 'menit', 'ke', 'setelah', 'mengalami', 'cedera', 'Tanpa', 'Messi', 'skor', 'bertahan', 'hingga', 'babak', 'pertama', 'berakhir']\n"
     ]
    }
   ],
   "source": [
    "paragrafList = paragraf.split()\n",
    "paragrafList = [i.strip() for i in paragrafList]\n",
    "print(paragrafList)"
   ]
  },
  {
   "cell_type": "code",
   "execution_count": 13,
   "metadata": {},
   "outputs": [
    {
     "name": "stdout",
     "output_type": "stream",
     "text": [
      "{'Barcelona': 4, 'berhasil': 1, 'merebut': 1, 'posisi': 1, 'puncak': 1, 'klasemen': 1, 'La': 1, 'Liga': 1, 'Spanyol': 1, 'seusai': 1, 'menang': 1, 'atas': 1, 'Sevilla': 1, 'pada': 3, 'pertandingan': 1, 'pekan': 1, 'kesembilan': 1, 'di': 1, 'Stadion': 1, 'Camp': 1, 'Nou': 1, 'Sabtu': 1, 'atau': 1, 'Minggu': 1, 'dini': 1, 'hari': 1, 'WIB': 1, 'membuka': 1, 'keunggulan': 2, 'menit': 3, 'ke': 2, 'melalui': 1, 'gol': 1, 'yang': 1, 'dicetak': 1, 'oleh': 1, 'Philippe': 1, 'Coutinho': 1, 'Lionel': 1, 'Messi': 3, 'menggandakan': 1, 'berselang': 1, 'Namun': 1, 'nahas': 1, 'bagi': 1, 'karena': 1, 'harus': 1, 'ditarik': 1, 'keluar': 1, 'setelah': 1, 'mengalami': 1, 'cedera': 1, 'Tanpa': 1, 'skor': 1, 'bertahan': 1, 'hingga': 1, 'babak': 1, 'pertama': 1, 'berakhir': 1}\n"
     ]
    }
   ],
   "source": [
    "paragrafDict = {}\n",
    "for word in paragrafList:\n",
    "    paragrafDict[word] = paragrafList.count(word)\n",
    "print(paragrafDict)"
   ]
  },
  {
   "cell_type": "code",
   "execution_count": 14,
   "metadata": {},
   "outputs": [
    {
     "name": "stdout",
     "output_type": "stream",
     "text": [
      "Barcelona : 4\n",
      "berhasil : 1\n",
      "merebut : 1\n",
      "posisi : 1\n",
      "puncak : 1\n",
      "klasemen : 1\n",
      "La : 1\n",
      "Liga : 1\n",
      "Spanyol : 1\n",
      "seusai : 1\n",
      "menang : 1\n",
      "atas : 1\n",
      "Sevilla : 1\n",
      "pada : 3\n",
      "pertandingan : 1\n",
      "pekan : 1\n",
      "kesembilan : 1\n",
      "di : 1\n",
      "Stadion : 1\n",
      "Camp : 1\n",
      "Nou : 1\n",
      "Sabtu : 1\n",
      "atau : 1\n",
      "Minggu : 1\n",
      "dini : 1\n",
      "hari : 1\n",
      "WIB : 1\n",
      "membuka : 1\n",
      "keunggulan : 2\n",
      "menit : 3\n",
      "ke : 2\n",
      "melalui : 1\n",
      "gol : 1\n",
      "yang : 1\n",
      "dicetak : 1\n",
      "oleh : 1\n",
      "Philippe : 1\n",
      "Coutinho : 1\n",
      "Lionel : 1\n",
      "Messi : 3\n",
      "menggandakan : 1\n",
      "berselang : 1\n",
      "Namun : 1\n",
      "nahas : 1\n",
      "bagi : 1\n",
      "karena : 1\n",
      "harus : 1\n",
      "ditarik : 1\n",
      "keluar : 1\n",
      "setelah : 1\n",
      "mengalami : 1\n",
      "cedera : 1\n",
      "Tanpa : 1\n",
      "skor : 1\n",
      "bertahan : 1\n",
      "hingga : 1\n",
      "babak : 1\n",
      "pertama : 1\n",
      "berakhir : 1\n"
     ]
    }
   ],
   "source": [
    "for k,v in paragrafDict.items():\n",
    "    print(k,':',v)"
   ]
  },
  {
   "cell_type": "code",
   "execution_count": null,
   "metadata": {},
   "outputs": [],
   "source": []
  }
 ],
 "metadata": {
  "kernelspec": {
   "display_name": "Python 3",
   "language": "python",
   "name": "python3"
  },
  "language_info": {
   "codemirror_mode": {
    "name": "ipython",
    "version": 3
   },
   "file_extension": ".py",
   "mimetype": "text/x-python",
   "name": "python",
   "nbconvert_exporter": "python",
   "pygments_lexer": "ipython3",
   "version": "3.7.0"
  }
 },
 "nbformat": 4,
 "nbformat_minor": 2
}
