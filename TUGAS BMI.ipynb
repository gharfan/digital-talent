{
 "cells": [
  {
   "cell_type": "code",
   "execution_count": 6,
   "metadata": {},
   "outputs": [
    {
     "name": "stdout",
     "output_type": "stream",
     "text": [
      "BMI anda = 31.074158058285043\n",
      "Moderately obese\n"
     ]
    }
   ],
   "source": [
    "bb = 111.0\n",
    "tb_cm = 189.0\n",
    "tb_m = tb_cm/100\n",
    "bmi = bb/tb_m**2\n",
    "\n",
    "print (\"BMI anda =\",bmi)\n",
    "if bmi < 15 :\n",
    "    print (\"Very severely underweight\")\n",
    "elif bmi >= 15 and bmi <16 :\n",
    "    print (\"Severely underweight\")\n",
    "elif bmi >= 16 and bmi <18.5 :\n",
    "    print (\"Underweight\")\n",
    "elif bmi >= 18.5 and bmi <25 :\n",
    "    print (\"Normal (healthy weight\")\n",
    "elif bmi >= 25 and bmi <30 :\n",
    "    print (\"Overweight\")\n",
    "elif bmi >= 30 and bmi <35 :\n",
    "    print (\"Moderately obese\")\n",
    "elif bmi >= 35 and bmi <40 :\n",
    "    print (\"Severely obese\")\n",
    "else :\n",
    "    print (\"Very severely obese\")"
   ]
  },
  {
   "cell_type": "code",
   "execution_count": null,
   "metadata": {},
   "outputs": [],
   "source": []
  }
 ],
 "metadata": {
  "kernelspec": {
   "display_name": "Python 3",
   "language": "python",
   "name": "python3"
  },
  "language_info": {
   "codemirror_mode": {
    "name": "ipython",
    "version": 3
   },
   "file_extension": ".py",
   "mimetype": "text/x-python",
   "name": "python",
   "nbconvert_exporter": "python",
   "pygments_lexer": "ipython3",
   "version": "3.7.0"
  }
 },
 "nbformat": 4,
 "nbformat_minor": 2
}
